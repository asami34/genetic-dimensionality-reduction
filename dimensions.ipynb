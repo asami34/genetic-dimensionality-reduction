{
 "cells": [
  {
   "cell_type": "code",
   "execution_count": 9,
   "metadata": {},
   "outputs": [],
   "source": [
    "import pandas as pd\n",
    "from umap import umap_\n",
    "import plotly.express as px\n",
    "from pathlib import Path\n",
    "from ipywidgets import interact, IntSlider, FloatSlider, Dropdown"
   ]
  },
  {
   "cell_type": "code",
   "execution_count": null,
   "metadata": {},
   "outputs": [],
   "source": [
    "\n",
    "\n",
    "\n",
    "HERE = Path(__file__).parent.resolve() if \"__file__\" in globals() else Path().resolve()\n",
    "\n",
    "df_turkic = pd.read_csv(HERE / \"turkicDefAncientScaledG25.csv\",\n",
    "                        index_col=0, header=None)\n",
    "df_all    = pd.read_csv(HERE / \"allAncientScaledG25.csv\",\n",
    "                        index_col=0, header=None)\n",
    "\n",
    "\n",
    "\n",
    "\n",
    "df_turkic['label'] = 'Turkic'  \n",
    "df_all['label']    = 'Other'    \n",
    "\n",
    "df = (pd.concat([df_turkic, df_all], ignore_index=True)\n",
    "        .drop_duplicates()\n",
    "        .reset_index(drop=True))\n",
    "\n",
    "X = df.drop(columns='label').values\n",
    "y = df['label'].values\n",
    "\n"
   ]
  },
  {
   "cell_type": "code",
   "execution_count": null,
   "metadata": {},
   "outputs": [
    {
     "data": {
      "application/vnd.jupyter.widget-view+json": {
       "model_id": "cfde1da4dfd64e22ab23bf25ede324de",
       "version_major": 2,
       "version_minor": 0
      },
      "text/plain": [
       "interactive(children=(IntSlider(value=15, description='n_neighbors', min=5), FloatSlider(value=0.1, descriptio…"
      ]
     },
     "metadata": {},
     "output_type": "display_data"
    }
   ],
   "source": [
    "def run_umap(n_neighbors=15, min_dist=0.1, metric='euclidean', random_state=0):\n",
    "    reducer = umap_.UMAP(\n",
    "        n_components=2,\n",
    "        n_neighbors=n_neighbors,\n",
    "        min_dist=min_dist,\n",
    "        metric=metric,\n",
    "    )\n",
    "    embedding = reducer.fit_transform(X)\n",
    "    emb_df = pd.DataFrame(embedding, columns=['UMAP1', 'UMAP2'])\n",
    "    emb_df['label'] = y\n",
    "\n",
    "    fig = px.scatter(\n",
    "        emb_df,\n",
    "        x=\"UMAP1\",\n",
    "        y=\"UMAP2\",\n",
    "        color=\"label\",\n",
    "        color_discrete_map={\"Turkic\": \"red\", \"Other\": \"blue\"},\n",
    "        category_orders={\"label\": [\"Other\", \"Turkic\"]},  # <- Turkic plotted last ➜ on top\n",
    "        title=f\"UMAP | n_neighbors={n_neighbors}, min_dist={min_dist}, metric={metric}\",\n",
    "    )\n",
    "    fig.update_traces(marker=dict(size=6, opacity=0.8))\n",
    "    fig.show()\n",
    "\n",
    "\n",
    "\n",
    "interact(\n",
    "    run_umap,\n",
    "    n_neighbors=IntSlider(value=15, min=5,  max=100, step=1),\n",
    "    min_dist=FloatSlider(value=0.1, min=0.0, max=1.0, step=0.05),\n",
    "    metric=Dropdown(options=['euclidean', 'cosine', 'manhattan'], value='euclidean')\n",
    ");\n"
   ]
  }
 ],
 "metadata": {
  "kernelspec": {
   "display_name": "Python 3",
   "language": "python",
   "name": "python3"
  },
  "language_info": {
   "codemirror_mode": {
    "name": "ipython",
    "version": 3
   },
   "file_extension": ".py",
   "mimetype": "text/x-python",
   "name": "python",
   "nbconvert_exporter": "python",
   "pygments_lexer": "ipython3",
   "version": "3.10.0"
  }
 },
 "nbformat": 4,
 "nbformat_minor": 2
}
