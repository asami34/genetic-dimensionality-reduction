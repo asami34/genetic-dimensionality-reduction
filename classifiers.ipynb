{
 "cells": [
  {
   "cell_type": "code",
   "execution_count": 9,
   "metadata": {},
   "outputs": [],
   "source": [
    "import pandas as pd\n",
    "from umap import umap_\n",
    "import plotly.express as px\n",
    "from pathlib import Path\n",
    "import numpy as np\n",
    "from ipywidgets import interact, IntSlider, FloatSlider, Dropdown"
   ]
  },
  {
   "cell_type": "code",
   "execution_count": 10,
   "metadata": {},
   "outputs": [],
   "source": [
    "\n",
    "\n",
    "\n",
    "HERE = Path(__file__).parent.resolve() if \"__file__\" in globals() else Path().resolve()\n",
    "\n",
    "df_turkic = pd.read_csv(HERE / \"turkicDefAncientScaledG25.csv\",\n",
    "                        index_col=0, header=None)\n",
    "df_all    = pd.read_csv(HERE / \"allAncientScaledG25.csv\",\n",
    "                        index_col=0, header=None)\n",
    "\n",
    "\n",
    "\n",
    "\n",
    "df_turkic['label'] = 'Turkic'  \n",
    "df_all['label']    = 'Other'    \n",
    "\n",
    "df = pd.concat([df_turkic, df_all]).drop_duplicates()\n",
    "df['name'] = df.index  \n",
    "\n",
    "\n",
    "X = df.drop(columns=['label', 'name']).values\n",
    "y = df['label'].values\n",
    "\n"
   ]
  },
  {
   "cell_type": "markdown",
   "metadata": {},
   "source": [
    "Different Models"
   ]
  },
  {
   "cell_type": "code",
   "execution_count": 11,
   "metadata": {},
   "outputs": [],
   "source": [
    "from sklearn.linear_model import LogisticRegression\n",
    "from sklearn.model_selection import train_test_split\n",
    "\n",
    "y_binary = (df['label'].values == 'Turkic').astype(int)\n",
    "\n",
    "X_train, X_test, y_train, y_test = train_test_split(\n",
    "    X, y_binary, stratify=y_binary, test_size=0.2, random_state=42\n",
    ")\n",
    "\n",
    "clf = LogisticRegression(class_weight={0: 0.2, 1: 0.8}, max_iter=1000, random_state=32)\n",
    "clf.fit(X_train, y_train)\n",
    "\n",
    "probs = clf.predict_proba(X_test)[:, 1]\n",
    "\n",
    "df['scorePU'] = clf.predict_proba(X)[:, 1]\n",
    "\n",
    "df_rankedPU = df.sort_values(by='scorePU', ascending=False)\n",
    "\n",
    "from sklearn.metrics import roc_auc_score, accuracy_score\n"
   ]
  },
  {
   "cell_type": "code",
   "execution_count": 12,
   "metadata": {},
   "outputs": [],
   "source": [
    "from sklearn.preprocessing import normalize\n",
    "\n",
    "turkic_vec = X[y_binary == 1].mean(axis=0)\n",
    "X_norm = normalize(X)\n",
    "turkic_vec_norm = turkic_vec / np.linalg.norm(turkic_vec)\n",
    "\n",
    "cos_sim = X_norm @ turkic_vec_norm\n",
    "\n",
    "df['scoreCOS'] = cos_sim\n",
    "df_rankedCOS = df.sort_values(by='scoreCOS', ascending=False)\n"
   ]
  },
  {
   "cell_type": "code",
   "execution_count": 13,
   "metadata": {},
   "outputs": [
    {
     "name": "stderr",
     "output_type": "stream",
     "text": [
      "c:\\Users\\asami\\AppData\\Local\\Programs\\Python\\Python310\\lib\\site-packages\\sklearn\\cluster\\_kmeans.py:1416: FutureWarning:\n",
      "\n",
      "The default value of `n_init` will change from 10 to 'auto' in 1.4. Set the value of `n_init` explicitly to suppress the warning\n",
      "\n"
     ]
    }
   ],
   "source": [
    "from sklearn.cluster import KMeans\n",
    "\n",
    "kmeans = KMeans(n_clusters=10, random_state=42)\n",
    "df['cluster'] = kmeans.fit_predict(X)\n",
    "\n",
    "cluster_scores = df.groupby('cluster')['label'].apply(lambda x: (x == 'Turkic').mean())\n",
    "df['scoreKM'] = df['cluster'].map(cluster_scores)\n",
    "\n",
    "df_rankedKM = df.sort_values(by='scoreKM', ascending=False)\n"
   ]
  },
  {
   "cell_type": "code",
   "execution_count": 14,
   "metadata": {},
   "outputs": [
    {
     "name": "stdout",
     "output_type": "stream",
     "text": [
      "Epoch 0, Loss: 0.9408\n",
      "Epoch 50, Loss: 0.5547\n",
      "Epoch 100, Loss: 0.2487\n",
      "Epoch 150, Loss: 0.2273\n",
      "Epoch 200, Loss: 0.1727\n",
      "Epoch 250, Loss: 0.1769\n"
     ]
    }
   ],
   "source": [
    "import torch\n",
    "import torch.nn as nn\n",
    "from sklearn.metrics.pairwise import cosine_similarity\n",
    "from sklearn.preprocessing import normalize\n",
    "\n",
    "# Define embedding model\n",
    "class EmbedNet(nn.Module):\n",
    "    def __init__(self, input_dim, emb_dim=32):\n",
    "        super().__init__()\n",
    "        self.net = nn.Sequential(\n",
    "            nn.Linear(input_dim, 64),\n",
    "            nn.ReLU(),\n",
    "            nn.Linear(64, emb_dim)\n",
    "        )\n",
    "    def forward(self, x):\n",
    "        return self.net(x)\n",
    "\n",
    "# Build triplet loader (no hard mining, but more samples)\n",
    "def get_triplets(X, y, n=2048):\n",
    "    pos = X[y == 1]\n",
    "    neg = X[y == 0]\n",
    "    triplets = []\n",
    "    for _ in range(n):\n",
    "        anchor = pos[np.random.randint(len(pos))]\n",
    "        positive = pos[np.random.randint(len(pos))]\n",
    "        negative = neg[np.random.randint(len(neg))]\n",
    "        triplets.append((anchor, positive, negative))\n",
    "    a, p, n = zip(*triplets)\n",
    "    return torch.stack([torch.tensor(x, dtype=torch.float32) for x in a]), \\\n",
    "           torch.stack([torch.tensor(x, dtype=torch.float32) for x in p]), \\\n",
    "           torch.stack([torch.tensor(x, dtype=torch.float32) for x in n])\n",
    "\n",
    "# Training\n",
    "X_tensor = torch.tensor(X, dtype=torch.float32)\n",
    "y_tensor = torch.tensor(y_binary)\n",
    "model = EmbedNet(X.shape[1])\n",
    "optimizer = torch.optim.Adam(model.parameters(), lr=1e-3)\n",
    "criterion = nn.TripletMarginLoss(margin=1.0)\n",
    "\n",
    "model.train()\n",
    "for epoch in range(300):\n",
    "    a, p, n = get_triplets(X, y_binary, n=512)\n",
    "    optimizer.zero_grad()\n",
    "    loss = criterion(model(a), model(p), model(n))\n",
    "    loss.backward()\n",
    "    optimizer.step()\n",
    "    if epoch % 50 == 0:\n",
    "        print(f\"Epoch {epoch}, Loss: {loss.item():.4f}\")\n",
    "\n",
    "model.eval()\n",
    "with torch.no_grad():\n",
    "    emb_all = model(X_tensor).numpy()\n",
    "    emb_all = normalize(emb_all)  \n",
    "\n",
    "    emb_turkic = emb_all[y_binary == 1]\n",
    "    proto = np.median(emb_turkic, axis=0).reshape(1, -1)  \n",
    "    sims = cosine_similarity(emb_all, proto).flatten()\n",
    "\n",
    "df['scoreNN'] = sims\n",
    "df_rankedNN = df.sort_values(by='scoreNN', ascending=False)\n"
   ]
  },
  {
   "cell_type": "markdown",
   "metadata": {},
   "source": [
    "Visualization"
   ]
  },
  {
   "cell_type": "code",
   "execution_count": null,
   "metadata": {},
   "outputs": [
    {
     "data": {
      "application/vnd.jupyter.widget-view+json": {
       "model_id": "cc63f606ba2c4b5999cdcd9aed15480e",
       "version_major": 2,
       "version_minor": 0
      },
      "text/plain": [
       "interactive(children=(IntSlider(value=15, description='n_neighbors', min=5), FloatSlider(value=0.1, descriptio…"
      ]
     },
     "metadata": {},
     "output_type": "display_data"
    }
   ],
   "source": [
    "def run_umap(n_neighbors=15, min_dist=0.1, metric='euclidean', score_type='scorePU'):\n",
    "    reducer = umap_.UMAP(\n",
    "        n_components=2,\n",
    "        n_neighbors=n_neighbors,\n",
    "        min_dist=min_dist,\n",
    "        metric=metric,\n",
    "        random_state=42,  \n",
    "        n_jobs=1\n",
    "    )\n",
    "\n",
    "    embedding = reducer.fit_transform(X)\n",
    "    emb_df = pd.DataFrame(embedding, columns=['UMAP1', 'UMAP2'])\n",
    "\n",
    "    emb_df['label'] = y\n",
    "    emb_df['score'] = df[score_type].values  \n",
    "    emb_df['name'] = df['name'].values\n",
    "\n",
    "    fig = px.scatter(\n",
    "        emb_df,\n",
    "        x=\"UMAP1\",\n",
    "        y=\"UMAP2\",\n",
    "        color=\"score\",\n",
    "        hover_data=[\"name\", \"label\"],\n",
    "        color_continuous_scale=\"RdBu\",\n",
    "        title=f\"UMAP | Colored by {score_type} | n_neighbors={n_neighbors}, min_dist={min_dist}, metric={metric}\",\n",
    "    )\n",
    "    fig.update_traces(marker=dict(size=6, opacity=0.8))\n",
    "    fig.show()\n",
    "\n",
    "interact(\n",
    "    run_umap,\n",
    "    n_neighbors=IntSlider(value=15, min=5, max=100, step=1),\n",
    "    min_dist=FloatSlider(value=0.1, min=0.0, max=1.0, step=0.05),\n",
    "    metric=Dropdown(options=['euclidean', 'cosine', 'manhattan'], value='euclidean'),\n",
    "    score_type=Dropdown(options=['scorePU', 'scoreKM', 'scoreNN', 'scoreCOS'], value='scorePU')\n",
    ");\n"
   ]
  },
  {
   "cell_type": "code",
   "execution_count": 18,
   "metadata": {},
   "outputs": [
    {
     "data": {
      "application/vnd.jupyter.widget-view+json": {
       "model_id": "b74c109eb4ed4b3d8d3f46f492d8d661",
       "version_major": 2,
       "version_minor": 0
      },
      "text/plain": [
       "interactive(children=(IntSlider(value=30, description='perplexity', max=50, min=5), IntSlider(value=200, descr…"
      ]
     },
     "metadata": {},
     "output_type": "display_data"
    }
   ],
   "source": [
    "from sklearn.manifold import TSNE\n",
    "\n",
    "def run_tsne(perplexity=30, learning_rate=200, score_type='scorePU'):\n",
    "    reducer = TSNE(\n",
    "        n_components=2,\n",
    "        perplexity=perplexity,\n",
    "        learning_rate=learning_rate,\n",
    "        random_state=42\n",
    "    )\n",
    "\n",
    "    embedding = reducer.fit_transform(X)\n",
    "    emb_df = pd.DataFrame(embedding, columns=['TSNE1', 'TSNE2'])\n",
    "\n",
    "    emb_df['label'] = y\n",
    "    emb_df['score'] = df[score_type].values  \n",
    "    emb_df['name'] = df['name'].values\n",
    "\n",
    "    fig = px.scatter(\n",
    "        emb_df,\n",
    "        x=\"TSNE1\",\n",
    "        y=\"TSNE2\",\n",
    "        color=\"score\",\n",
    "        hover_data=[\"name\", \"label\"],\n",
    "        color_continuous_scale=\"RdBu\",\n",
    "        title=f\"t-SNE | Colored by {score_type} | perplexity={perplexity}, learning_rate={learning_rate}\",\n",
    "    )\n",
    "    fig.update_traces(marker=dict(size=6, opacity=0.8))\n",
    "    fig.show()\n",
    "\n",
    "interact(\n",
    "    run_tsne,\n",
    "    perplexity=IntSlider(value=30, min=5, max=50, step=1),\n",
    "    learning_rate=IntSlider(value=200, min=10, max=1000, step=10),\n",
    "    score_type=Dropdown(options=['scorePU', 'scoreKM', 'scoreNN', 'scoreCOS'], value='scorePU')\n",
    ");\n"
   ]
  }
 ],
 "metadata": {
  "kernelspec": {
   "display_name": "Python 3",
   "language": "python",
   "name": "python3"
  },
  "language_info": {
   "codemirror_mode": {
    "name": "ipython",
    "version": 3
   },
   "file_extension": ".py",
   "mimetype": "text/x-python",
   "name": "python",
   "nbconvert_exporter": "python",
   "pygments_lexer": "ipython3",
   "version": "3.10.0"
  }
 },
 "nbformat": 4,
 "nbformat_minor": 2
}
